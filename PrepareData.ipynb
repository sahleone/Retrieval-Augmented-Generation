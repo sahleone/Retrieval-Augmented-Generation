{
 "cells": [
  {
   "cell_type": "markdown",
   "metadata": {},
   "source": [
    "# Preparing Data for Retrieval Augmented Generation"
   ]
  },
  {
   "cell_type": "markdown",
   "metadata": {},
   "source": [
    "## Preparing Data Pulled from Wikipedia and Storing it in LanceDB\n",
    "\n",
    "In this Python notebook, we will explore the process of preparing data that has been pulled from Wikipedia and storing it in LanceDB for Retrival Augmented Generation. Wikipedia is a vast source of information, and extracting relevant data from it can be a valuable task for various data tasks.\n",
    "\n",
    "Additionally, we can leverage the extracted data to augment a large language model using the OpenAI API. By feeding the data into the language model, we can enhance its capabilities and generate more accurate and contextually relevant responses. This can be particularly useful in natural language processing tasks, chatbots, and text generation applications.\n",
    "\n",
    "To use the OpenAI API for data augmentation, we need to ensure that the extracted data is properly formatted. We can then make API calls to the OpenAI service, passing in the formatted data as input and receiving augmented responses as output. This iterative process of training and fine-tuning the language model with the extracted data can significantly improve its performance and generate more coherent and context-aware text.\n",
    "\n",
    "By combining the power of LanceDB for data storage and retrieval and the OpenAI API for language model augmentation, we can create sophisticated and intelligent systems that can process and generate text with enhanced accuracy and relevance.\n"
   ]
  },
  {
   "cell_type": "markdown",
   "metadata": {},
   "source": [
    "## Import Libraries"
   ]
  },
  {
   "cell_type": "code",
   "execution_count": 1,
   "metadata": {},
   "outputs": [
    {
     "name": "stdout",
     "output_type": "stream",
     "text": [
      "Note: you may need to restart the kernel to use updated packages.\n"
     ]
    }
   ],
   "source": [
    "pip install -q --upgrade python-dotenv unidecode openai numpy pandas torch bs4 requests lancedb tiktoken"
   ]
  },
  {
   "cell_type": "code",
   "execution_count": 2,
   "metadata": {},
   "outputs": [
    {
     "name": "stdout",
     "output_type": "stream",
     "text": [
      "Note: you may need to restart the kernel to use updated packages.\n"
     ]
    }
   ],
   "source": [
    "pip freeze > requirements.txt"
   ]
  },
  {
   "cell_type": "code",
   "execution_count": 3,
   "metadata": {},
   "outputs": [
    {
     "name": "stderr",
     "output_type": "stream",
     "text": [
      "d:\\GitHub\\Retrieval-Augmented-Generation\\.venv\\lib\\site-packages\\tqdm\\auto.py:21: TqdmWarning: IProgress not found. Please update jupyter and ipywidgets. See https://ipywidgets.readthedocs.io/en/stable/user_install.html\n",
      "  from .autonotebook import tqdm as notebook_tqdm\n"
     ]
    }
   ],
   "source": [
    "import openai\n",
    "\n",
    "import numpy as np\n",
    "import pandas as pd\n",
    "import torch\n",
    "\n",
    "# Used in cleaning the data \n",
    "from unidecode import unidecode \n",
    "from dateutil import parser\n",
    "\n",
    "# To Load environment variables\n",
    "from dotenv import load_dotenv, find_dotenv\n",
    "import os\n",
    "\n",
    "# Pulling data from wikipedia\n",
    "from bs4 import BeautifulSoup\n",
    "import requests\n",
    "import time\n",
    "import random\n",
    "\n",
    "# vector database\n",
    "from lancedb.pydantic import vector, LanceModel\n",
    "import lancedb\n",
    "\n",
    "# Counting tokens in prompt\n",
    "import tiktoken"
   ]
  },
  {
   "cell_type": "code",
   "execution_count": 4,
   "metadata": {},
   "outputs": [],
   "source": [
    "## Define parameters"
   ]
  },
  {
   "cell_type": "code",
   "execution_count": 5,
   "metadata": {},
   "outputs": [],
   "source": [
    "# get api key\n",
    "_ = load_dotenv(find_dotenv())\n",
    "\n",
    "openai.api_key = os.environ.get(\"OPENAI_API_KEY\")\n",
    "\n",
    "# set model\n",
    "config = {\n",
    "    'llm_model' : \"gpt-3.5-turbo-0301\",\n",
    "    'embedding_model' : \"text-embedding-3-small\",\n",
    "    'years' : [2022, 2023, 2024],\n",
    "    'databaseName' : \"events\",\n",
    "    \"max_token_count\": 2048\n",
    "}\n"
   ]
  },
  {
   "cell_type": "markdown",
   "metadata": {},
   "source": [
    "## Pulling Data from Wikipedia"
   ]
  },
  {
   "cell_type": "code",
   "execution_count": 6,
   "metadata": {},
   "outputs": [],
   "source": [
    "base_endpoint = 'https://en.wikipedia.org/w/api.php'\n",
    "\n",
    "params = {\n",
    "    \"action\": \"query\",\n",
    "    \"prop\" : \"extracts\",\n",
    "    \"titles\" : \"2022\",#\"water|fire|earth\",\n",
    "    \"formatversion\": \"2\",\n",
    "    \"explaintext\": \"1\",\n",
    "    \"exsectionformat\": \"wiki\",\n",
    "    \"format\": \"json\",\n",
    "    # \"exintro\": \"1\"\n",
    "}\n",
    "\n",
    "# multiple titles seems to fail as im requesting the entire page\n",
    "# returns multiple pages if exintro is set to 1\n",
    "# https://www.mediawiki.org/wiki/Topic:Shyz4nnfs8ucpioz"
   ]
  },
  {
   "cell_type": "code",
   "execution_count": 7,
   "metadata": {},
   "outputs": [
    {
     "name": "stdout",
     "output_type": "stream",
     "text": [
      "['2022_in_Fiji', '2022_in_Slovenia', '2022_in_politics', '2022_in_Oman', '2022_in_Chile', '2022_in_Costa_Rica', '2022_in_Eagle_Fighting_Championship', '2022_in_Vietnam', '2022_in_Tamil_television', '2022_in_United_States_rugby_league', '2022_in_Ecuador', '2022_in_South_Korean_television', '2022_in_Belgium', '2022_in_Mauritania', '2022_in_Europe', '2022_in_Canada', '2022_in_Weather', '2022_in_Uganda', '2022_in_American_music', '2022_in_Thailand', '2022_in_South_Korean_music', '2022_in_Canadian_music', '2022_in_Australian_literature', '2022_in_Cyprus', '2022_in_Azerbaijan', '2022_in_Dutch_television', '2022_in_Irish_television', '2022_in_Palau', '2022_in_Saint_Vincent_and_the_Grenadines', '2022_in_Japanese_music', '2022_in_jazz', '2022_in_NASCAR', '2022_in_biotechnology', '2022_in_Bulgaria', '2022_in_Peru', '2022_in_paleoentomology', '2022_in_Slovakia', '2022_in_Somalia', '2022_in_Kazakhstan', '2022_in_Spanish_television', '2022_in_Transnistria', '2022_in_Qatar', '2022_in_Samoa', '2022_in_Brazilian_football', '2022_in_Moldova', '2022_in_New_Zealand_football', '2022_in_Turkey', '2022_in_Ukraine', '2022_in_film', '2022_in_Scotland', '2022_in_Trinidad_and_Tobago', '2022_in_Singapore', '2022_in_Mexico', '2022_in_Eritrea', '2022_in_Scottish_television', '2022_in_Mauritius', '2022_in_artistic_gymnastics', '2022_in_Korea', '2022_in_Iraq', '2022_in_Iran', '2022_in_Easter_Island', '2022_in_music', '2022_in_Chinese_music', '2022_in_Australia', '2022_in_Tuvalu', '2022_in_The_Gambia', '2022_in_100_metres', '2022_in_Christmas_Island', '2022_in_Pakistan', '2022_in_radio', '2022_in_paleontology', '2022_in_golf', '2022_in_Laos', '2022_in_Lebanon', '2022_in_Guatemala', '2022_in_England', '2022_in_Saint_Lucia', '2022_in_Vanuatu', '2022_in_Bermuda', '2022_in_Brave_Combat_Federation', '2022_in_Malawi', '2022_in_Cambodia', '2022_in_comics', '2022_in_Switzerland', '2022_in_RISE', '2022_in_Argentina', '2022_in_Chinese_football', '2022_in_Andorra', '2022_in_Libya', '2022_in_Papua_New_Guinea', '2022_in_Sierra_Leone', '2022_in_Western_Sahara', '2022_in_Kyrgyzstan', '2022_in_Solomon_Islands', '2022_in_Norway', '2022_in_UFC', '2022_in_Haiti', '2022_in_Suriname', '2022_in_Ghana', '2022_in_Southern_Africa', '2022_in_ice_hockey', '2022_in_Estonia', '2022_in_Indonesia', '2022_in_India', '2022_in_Myanmar', '2022_in_Uzbekistan', '2022_in_Syria', '2022_in_Cameroon', '2022_in_Road_FC', '2022_in_Scandinavian_music', '2022_in_Finland', '2022_in_games', '2022_in_LGBT_rights', '2022_in_British_radio', '2022_in_Canadian_television', '2022_in_Canadian_football', '2022_in_America', '2022_in_Panama', '2022_in_Kiribati', '2022_in_Bangladesh', '2022_in_archaeology', '2022_in_Barbados', '2022_in_Philippine_sports', '2022_in_Russia', '2022_in_chess', '2022_in_paleomammology', '2022_in_movies', '2022_in_Wales', '2022_in_Manipur', '2022_in_Montenegro', '2022_in_AMC_Fight_Nights', '2022_in_Jordan', '2022_in_Niue', '2022_in_aviation', '2022_in_athletics', '2022_in_Nepal', '2022_in_Film', '2022_in_Kuwait', '2022_in_Philippine_music', '2022_in_Mozambique', '2022_in_poetry', '2022_in_Tunisia', '2022_in_Madagascar', '2022_in_Konfrontacja_Sztuk_Walki', '2022_in_Pakistani_television', '2022_in_Kosovo', '2022_in_Northern_Ireland', '2022_in_South_America', '2022_in_Saudi_Arabia', '2022_in_Bare_Knuckle_Fighting_Championship', '2022_in_Liechtenstein', '2022_in_Poland', '2022_in_Guyana', '2022_in_metal', '2022_in_ONE_Championship', '2022_in_Texas', '2022_in_hip_hop_music', '2022_in_country_music', '2022_in_paleomammalogy', '2022_in_Zambia', '2022_in_public_domain', '2022_in_Lesotho', '2022_in_Georgia_(country)', '2022_in_Mongolia', '2022_in_Egypt', '2022_in_Honduras', '2022_in_Sri_Lanka', '2022_in_computing', '2022_in_rail_transport', '2022_in_esports', '2022_in_Guinea', '2022_in_Brazil', '2022_in_American_television', '2022_in_Angola', '2022_in_Palestine', '2022_in_Micronesia', '2022_in_Germany', '2022_in_Wu_Lin_Feng', '2022_in_France', '2022_in_basketball', '2022_in_Venezuela', '2022_in_Australian_television', '2022_in_Indonesian_football', '2022_in_Monaco', '2022_in_Namibia', '2022_in_Afghanistan', '2022_in_Botswana', '2022_in_Bahrain', '2022_in_archosaur_paleontology', '2022_in_classical_music', '2022_in_South_Sudan', '2022_in_Kerala', '2022_in_Armenia', '2022_in_Colombia', '2022_in_San_Marino', '2022_in_British_television', '2022_in_Nauru', '2022_in_Liberia', '2022_in_Japanese_football', '2022_in_Burundi', '2022_in_Latvia', '2022_in_Guam', '2022_in_Cuba', '2022_in_Saint_Kitts_and_Nevis', '2022_in_British_politics', '2022_in_Albania', '2022_in_Brunei', '2022_in_Faroese_football', '2022_in_arthropod_paleontology', '2022_in_Ivory_Coast', '2022_in_African_music', '2022_in_Spain', '2022_in_Central_America', '2022_in_amusement_parks', '2022_in_Cape_Verde', '2022_in_Uruguay', '2022_in_Serbia', '2022_in_Eswatini', '2022_in_Japanese_television', '2022_in_Antigua_and_Barbuda', '2022_in_Ethiopia', '2022_in_Hong_Kong', '2022_in_Puerto_Rico', '2022_in_paleoichthyology', '2022_in_Tanzania', '2022_in_Latin_music', '2022_in_Hong_Kong_film', '2022_in_religion', '2022_in_Italy', '2022_in_Bhutan', '2022_in_Japan', '2022_in_Djibouti', '2022_in_Somaliland', '2022_in_Algeria', '2022_in_Vatican_City', '2022_in_climate_change', '2022_in_Legacy_Fighting_Alliance', '2022_in_heavy_metal_music', '2022_in_Luxembourg', '2022_in_Tajikistan', '2022_in_TV', '2022_in_Professional_Fighters_League', '2022_in_mammal_paleontology', '2022_in_Sudan', '2022_in_North_Korea', '2022_in_Philippine_television', '2022_in_Turkmenistan', '2022_in_philosophy', '2022_in_Croatia', '2022_in_baseball', '2022_in_Queensland_soccer', '2022_in_paleobotany', '2022_in_Iceland', '2022_in_Michigan', '2022_in_Gabon', '2022_in_downloadable_songs_for_the_Rock_Band_series', '2022_in_Antarctica', '2022_in_Israel', '2022_in_Romanian_kickboxing', '2022_in_combat_sports', '2022_in_Hawaii', '2022_in_Portugal', '2022_in_Lithuania', '2022_in_Seychelles', '2022_in_Hungary', '2022_in_Tonga', '2022_in_politics_and_government', '2022_in_Yemen', '2022_in_Macau', '2022_in_South_Ossetia', '2022_in_Zimbabwe', '2022_in_New_Caledonia', '2022_in_South_Korea', '2022_in_American_soccer', '2022_in_Morocco', '2022_in_Bellator_MMA', '2022_in_anime', '2022_in_Bosnia_and_Herzegovina', '2022_in_East_Timor', '2022_in_Dominica', '2022_in_Romania', '2022_in_Paraguay', '2022_in_Bolivia', '2022_in_environmental_sciences', '2022_in_professional_wrestling', '2022_in_Absolute_Championship_Akhmat', '2022_in_Burkina_Faso', '2022_in_Togo', '2022_in_British_music', '2022_in_South_Africa', '2022_in_American_film', '2022_in_Glory', '2022_in_American_Samoa', '2022_in_quantum_computing_and_communication', '2022_in_Denmark', '2022_in_Nicaragua', '2022_in_North_Macedonia', '2022_in_The_Bahamas', '2022_in_Senegal', '2022_in_Taiwan', '2022_in_China', '2022_in_literature', '2022_in_South_Korean_football', '2022_in_French_Polynesia', '2022_in_athletics_(track_and_field)', '2022_in_Canadian_soccer', '2022_in_American_radio', '2022_in_Nigeria', '2022_in_Rizin_Fighting_Federation', '2022_in_United_Kingdom_politics_and_government', '2022_in_Niger', '2022_in_Guinea-Bissau', '2022_in_Mali', '2022_in_Sweden', '2022_in_Equatorial_Guinea', '2022_in_Jamaica', '2022_in_El_Salvador', '2022_in_Greenland', '2022_in_architecture', '2022_in_art', '2022_in_Belize', '2022_in_Benin', '2022_in_Asian_music', '2022_in_Greece', '2022_in_Estonian_football', '2022_in_Ireland', '2022_in_Malta', '2022_in_Austria', '2022_in_Malaysia', '2022_in_Misfits_Boxing', '2022_in_animation', '2022_in_paleomalacology', '2022_in_Grenada', '2022_in_New_Zealand', '2022_in_Kenya', '2022_in_association_football', '2022_in_Chad', '2022_in_K-1', '2022_in_Belarus', '2022_in_Rwanda', '2022_in_East_Africa', '2023_in_paleobotany', '2023_in_motorsport', '2023_in_Gabon', '2023_in_badminton', '2023_in_science', '2023_in_Oman', '2023_in_Japanese_television', '2023_in_Benin', '2023_in_Tanzania', '2023_in_Burundi', '2023_in_Vatican_City', '2023_in_Russia', '2023_in_Philippine_television', '2023_in_Texas', '2023_in_radio', '2023_in_Uzbekistan', '2023_in_Scandinavian_music', '2023_in_Kenya', '2023_in_Bulgaria', '2023_in_Togo', '2023_in_American_public_domain', '2023_in_Pakistan', '2023_in_Tuvalu', '2023_in_Sri_Lanka', '2023_in_American_football', '2023_in_Colombia', '2023_in_New_Caledonia', '2023_in_Eswatini', '2023_in_Switzerland', '2023_in_Latin_music', '2023_in_Iceland', '2023_in_Afghanistan', '2023_in_Georgia_(country)', '2023_in_Burkina_Faso', '2023_in_Paraguayan_football', '2023_in_Scottish_television', '2023_in_British_television', '2023_in_politics', '2023_in_Mongolia', '2023_in_Kerala', '2023_in_British_music', '2023_in_sailing', '2023_in_Sierra_Leone', '2023_in_Poland', '2023_in_Cuba', '2023_in_Hong_Kong', '2023_in_Cape_Verde', '2023_in_Niger', '2023_in_Chile', '2023_in_heavy_metal_music', '2023_in_Philippine_Television', '2023_in_Peru', '2023_in_Canadian_soccer', '2023_in_racquetball', '2023_in_Honduras', '2023_in_Electronic_music', '2023_in_India', '2023_in_Bahrain', '2023_in_American_film', '2023_in_Canadian_television', '2023_in_classical_music', '2023_in_Nauru', '2023_in_Ecuador', '2023_in_Macau', '2023_in_Bosnia_and_Herzegovina', '2023_in_Slovenia', '2023_in_Hong_Kong_film', '2023_in_Japan', '2023_in_biotechnology', '2023_in_Luxembourg', '2023_in_Mozambique', '2023_in_Nicaragua', '2023_in_Malta', '2023_in_paleontology', '2023_in_South_Korean_music', '2023_in_Papua_New_Guinea', '2023_in_reptile_paleontology', '2023_in_Europe', '2023_in_South_Korea', '2023_in_Cambodia', '2023_in_climate_change', '2023_in_Kyrgyzstan', '2023_in_hip_hop_music', '2023_in_Algeria', '2023_in_Namibia', '2023_in_Turkey', '2023_in_Botswana', '2023_in_Brunei', '2023_in_Guinea-Bissau', '2023_in_art', '2023_in_Puerto_Rico', '2023_in_country_music', '2023_in_Brave_Combat_Federation', '2023_in_cue_sports', '2023_in_computing', '2023_in_science_and_technology', '2023_in_professional_wrestling', '2023_in_Korea', '2023_in_Western_Sahara', '2023_in_politics_and_government', '2023_in_Misfits_Boxing', '2023_in_Guatemala', '2023_in_Canadian_music', '2023_in_public_domain', '2023_in_Japanese_football', '2023_in_Somalia', '2023_in_palaeontology', '2023_in_Thailand', '2023_in_ONE_Championship', '2023_in_American_Samoa', '2023_in_Finland', '2023_in_American_soccer', '2023_in_Belarus', '2023_in_Australian_literature', '2023_in_Suriname', '2023_in_Qatar', '2023_in_Ghana', '2023_in_Denmark', '2023_in_South_America', '2023_in_Kuwait', '2023_in_science_fiction_film', '2023_in_South_Korean_football', '2023_in_senescence_research', '2023_in_Tajikistan', '2023_in_Argentina', '2023_in_Uruguay', '2023_in_metal', '2023_in_Rwanda', '2023_in_British_politics', '2023_in_Wales', '2023_in_rail_transport', '2023_in_Kazakhstan', '2023_in_South_Sudan', '2023_in_baseball', '2023_in_Belgium', '2023_in_Liechtenstein', '2023_in_Professional_Fighters_League', '2023_in_Road_FC', '2023_in_Eritrea', '2023_in_Seychelles', '2023_in_Fiji', '2023_in_South_Korean_film', '2023_in_combat_sports', '2023_in_Senegal', '2023_in_Northern_Ireland', '2023_in_Palestine', '2023_in_Canadian_football', '2023_in_Bolivia', '2023_in_Hong_Kong_football', '2023_in_Scotland', '2023_in_games', '2023_in_Guam', '2023_in_Albania', '2023_in_Saint_Lucia', '2023_in_Guyana', '2023_in_Dutch_television', '2023_in_philosophy', '2023_in_Philippine_sports', '2023_in_Kiribati', '2023_in_Mali', '2023_in_Norway', '2023_in_North_Macedonia', '2023_in_athletics_(track_and_field)', '2023_in_Zambia', '2023_in_Spanish_television', '2023_in_Trinidad_and_Tobago', '2023_in_Ivory_Coast', '2023_in_Morocco', '2023_in_Laos', '2023_in_Saint_Kitts_and_Nevis', '2023_in_Iran', '2023_in_South_Africa', '2023_in_LGBT_rights', '2023_in_Barbados', '2023_in_Italy', '2023_in_gymnastics', '2023_in_Equatorial_Guinea', '2023_in_Zimbabwe', '2023_in_paleoentomology', '2023_in_Jamaica', '2023_in_USA', '2023_in_El_Salvador', '2023_in_Croatia', '2023_in_Israel', '2023_in_paleomammalogy', '2023_in_ice_sports', '2023_in_music', '2023_in_Greece', '2023_in_public_domain_in_the_United_States', '2023_in_African_music', '2023_in_Saint_Vincent_and_the_Grenadines', '2023_in_quantum_computing_and_communication', '2023_in_Vietnam', '2023_in_Madagascar', '2023_in_United_Kingdom_politics_and_government', '2023_in_Cameroon', '2023_in_Rizin_Fighting_Federation', '2023_in_Azerbaijan', '2023_in_Vanuatu', '2023_in_San_Marino', '2023_in_K-1', '2023_in_American_music', '2023_in_Rhythym_and_blues_music', '2023_in_Guinea', '2023_in_Armenia', '2023_in_Germany', '2023_in_Monaco', '2023_in_Haiti', '2023_in_Tonga', '2023_in_Glory', '2023_in_comics', '2023_in_Lithuania', '2023_in_golf', '2023_in_Kosovo', '2023_in_animation', '2023_in_mammal_paleontology', '2023_in_China', '2023_in_Bangladesh', '2023_in_Konfrontacja_Sztuk_Walki', '2023_in_Indonesian_football', '2023_in_movies', '2023_in_darts', '2023_in_Malawi', '2023_in_Slovakia', '2023_in_Legacy_Fighting_Alliance', '2023_in_Ukraine', '2023_in_Wu_Lin_Feng', '2023_in_basketball', '2023_in_jazz', '2023_in_paleoichthyology', '2023_in_Bare_Knuckle_Fighting_Championship', '2023_in_Paraguay', '2023_in_Uganda', '2023_in_Bellator_MMA', '2023_in_Philippine_music', '2023_in_Palau', '2023_in_Jordan', '2023_in_Grenada', '2023_in_chess', '2023_in_Egypt', '2023_in_Djibouti', '2023_in_South_Korean_television', '2023_in_Taiwan', '2023_in_Libya', '2023_in_archosaur_paleontology', '2023_in_Serbia', '2023_in_RISE', '2023_in_North_Korea', '2023_in_association_football', '2023_in_Estonian_football', '2023_in_poetry', '2023_in_Saudi_Arabia', '2023_in_Sudan', '2023_in_Montenegro', '2023_in_Chad', '2023_in_paleomalacology', '2023_in_Canada', '2023_in_religion', '2023_in_Syria', '2023_in_Andorra', '2023_in_Ireland', '2023_in_Romanian_kickboxing', '2023_in_Lesotho', '2023_in_Micronesia', '2023_in_Hungary', '2023_in_Costa_Rica', '2023_in_Yemen', '2023_in_Venezuela', '2023_in_British_radio', '2023_in_Chinese_music', '2023_in_Mauritius', '2023_in_Myanmar', '2023_in_Ethiopia', '2023_in_rhythm_and_blues_music', '2023_in_Liberia', '2023_in_East_Timor', '2023_in_UFC', '2023_in_Hawaii', '2023_in_anime', '2023_in_Tunisia', '2023_in_artistic_gymnastics', '2023_in_Malaysia', '2023_in_Austria', '2023_in_Angola', '2023_in_Brazilian_music', '2023_in_Mexico', '2023_in_rock', '2023_in_Antigua_and_Barbuda', '2023_in_Nepal', '2023_in_archaeology', '2023_in_Latvia', '2023_in_Romania', '2023_in_electronic_music', '2023_in_Irish_television', '2023_in_Nigeria', '2023_in_Turkmenistan', '2023_in_aviation', '2023_in_ice_hockey', '2023_in_downloadable_songs_for_the_Rock_Band_series', '2023_in_Estonia', '2023_in_Sweden', '2023_in_American_television', '2023_in_film', '2023_in_Belize', '2023_in_Panama', '2023_in_arthropod_paleontology', '2023_in_Lebanon', '2023_in_California', '2023_in_Indonesia', '2023_in_New_Zealand', '2023_in_Samoa', '2023_in_Asian_music', '2023_in_Moldova', '2023_in_rock_music', '2023_in_Asia', '2023_in_Tamil_television', '2023_in_Japanese_music', '2023_in_literature', '2023_in_Oregon', '2023_in_Brazilian_football', '2023_in_gaming', '2023_in_Bhutan', '2023_in_Cyprus', '2023_in_Australia', '2023_in_France', '2023_in_England', '2023_in_Absolute_Championship_Akhmat', '2023_in_Mauritania', '2023_in_Dominica', '2023_in_Czechia', '2023_in_architecture', '2023_in_rugby_union', '2023_in_Brazil', '2023_in_Iraq', '2023_in_New_Zealand_football', '2023_in_NASCAR', '2023_in_Portugal', '2023_in_Antarctica', '2023_in_Australian_television', '2023_in_Singapore', '2023_in_Spain', '2023_in_Somaliland', '2024_in_Cuba', '2024_in_Cameroon', '2024_in_Spanish_television', '2024_in_Mauritania', '2024_in_Australia', '2024_in_Bulgaria', '2024_in_Malta', '2024_in_Djibouti', '2024_in_Bellator_MMA', '2024_in_Eritrea', '2024_in_Mozambique', '2024_in_Russia', '2024_in_Norway', '2024_in_UAE_Warriors', '2024_in_Bare_Knuckle_Fighting_Championship', '2024_in_Vietnam', '2024_in_jazz', '2024_in_Antigua_and_Barbuda', '2024_in_South_Sudan', '2024_in_South_Korean_music', '2024_in_politics', '2024_in_Jamaica', '2024_in_Ireland', '2024_in_Romanian_kickboxing', '2024_in_Grenada', '2024_in_Tamil_television', '2024_in_Samoa', '2024_in_Central_America', '2024_in_anime', '2024_in_paleontology', '2024_in_Zambia', '2024_in_Malawi', '2024_in_Oman', '2024_in_gymnastics', '2024_in_Kiribati', '2024_in_Asian_music', '2024_in_Haiti', '2024_in_Palau', '2024_in_science', '2024_in_Legacy_Fighting_Alliance', '2024_in_Hong_Kong', '2024_in_rail_transport', '2024_in_Vatican_City', '2024_in_Bahrain', '2024_in_rhythm_and_blues_music', '2024_in_Absolute_Championship_Akhmat', '2024_in_Saint_Kitts_and_Nevis', '2024_in_Fiji', '2024_in_Ethiopia', '2024_in_Misfits_Boxing', '2024_in_Canadian_film', '2024_in_Sudan', '2024_in_Gabon', '2024_in_Iraq', '2024_in_classical_music', '2024_in_South_Africa', '2024_in_British_politics', '2024_in_Wu_Lin_Feng', '2024_in_sport', '2024_in_Brazil', '2024_in_Indonesian_football', '2024_in_Thailand', '2024_in_American_music', '2024_in_Georgia_(country)', '2024_in_esports', '2024_in_Uzbekistan', '2024_in_Mali', '2024_in_Kuwait', '2024_in_Argentina', '2024_in_Pakistan', '2024_in_the_Czech_Republic', '2024_in_Monaco', '2024_in_Spain', '2024_in_Kyrgyzstan', '2024_in_Saudi_Arabia', '2024_in_British_radio', '2024_in_Colombia', '2024_in_artistic_gymnastics', '2024_in_Japanese_television', '2024_in_Albania', '2024_in_Papua_New_Guinea', '2024_in_Antarctica', '2024_in_Democratic_Republic_of_the_Congo', '2024_in_Uruguay', '2024_in_Wales', '2024_in_Somalia', '2024_in_Yemen', '2024_in_paleoichthyology', '2024_in_Angola', '2024_in_Cape_Verde', '2024_in_Peru', '2024_in_baseball', '2024_in_Guyana', '2024_in_Konfrontacja_Sztuk_Walki', '2024_in_South_Korean_television', '2024_in_Chinese_music', '2024_in_combat_sports', '2024_in_Rwanda', '2024_in_Vanuatu', '2024_in_Tajikistan', '2024_in_Philippine_television', '2024_in_music', '2024_in_Irish_television', '2024_in_Canadian_music', '2024_in_K-1', '2024_in_China', '2024_in_paleobotany', '2024_in_Scotland', '2024_in_Belize', '2024_in_Libya', '2024_in_Namibia', '2024_in_arthropod_paleontology', '2024_in_Texas', '2024_in_Guinea-Bissau', '2024_in_modern_pentathlon', '2024_in_Latvia', '2024_in_Moldova', '2024_in_politics_and_government', '2024_in_sailing', '2024_in_British_music', '2024_in_North_Macedonia', '2024_in_Queensland_soccer', '2024_in_art', '2024_in_skiing', '2024_in_New_Caledonia', '2024_in_the_Bahamas', '2024_in_Christmas_Island', '2024_in_Iran', '2024_in_Israel', '2024_in_North_Korea', '2024_in_Scottish_television', '2024_in_spaceflight_(January-June)', '2024_in_Tunisia', '2024_in_the_Central_African_Republic', '2024_in_mammal_paleontology', '2024_in_American_film', '2024_in_Sweden', '2024_in_religion', '2024_in_Bosnia_and_Herzegovina', '2024_in_England', '2024_in_motorsport', '2024_in_downloadable_songs_for_the_Rock_Band_series', '2024_in_South_Korea', '2024_in_Singapore', '2024_in_Poland', '2024_in_Australian_television', '2024_in_Lesotho', '2024_in_archaeology', '2024_in_American_soccer', '2024_in_Brazilian_football', '2024_in_spaceflight', '2024_in_Brunei', '2024_in_Liechtenstein', '2024_in_Paraguayan_football', '2024_in_Canada', '2024_in_aviation', '2024_in_Egypt', '2024_in_Azerbaijan', '2024_in_Iceland', '2024_in_Cambodia', '2024_in_Senegal', '2024_in_animation', '2024_in_Kosovo', '2024_in_radio', '2024_in_Bhutan', '2024_in_Canadian_television', '2024_in_table_tennis', '2024_in_Professional_Fighters_League', '2024_in_Canadian_soccer', '2024_in_ice_hockey', '2024_in_Jordan', '2024_in_Switzerland', '2024_in_Turkey', '2024_in_Australian_literature', '2024_in_Equatorial_Guinea', '2024_in_Botswana', '2024_in_LGBT_rights', '2024_in_cycling', '2024_in_Finland', '2024_in_Slovenia', '2024_in_shooting', '2024_in_Greece', '2024_in_South_America', '2024_in_tennis', '2024_in_Mauritius', '2024_in_climate_change', '2024_in_UFC', '2024_in_Eswatini', '2024_in_Laos', '2024_in_reptile_paleontology', '2024_in_Ecuador', '2024_in_metal', '2024_in_Austria', '2024_in_Uganda', '2024_in_Costa_Rica', '2024_in_Kazakhstan', '2024_in_Barbados', '2024_in_Japan', '2024_in_Mexico', '2024_in_Saint_Lucia', '2024_in_Puerto_Rico', '2024_in_Zimbabwe', '2024_in_Bangladesh', '2024_in_Serbia', '2024_in_Niger', '2024_in_architecture', '2024_in_Trinidad_and_Tobago', '2024_in_Belgium', '2024_in_Saint_Vincent_and_the_Grenadines', '2024_in_Honduras', '2024_in_paleomammalogy', '2024_in_aquatic_sports', '2024_in_Afghanistan', '2024_in_athletics_(track_and_field)', '2024_in_paleoentomology', '2024_in_the_Comoros', '2024_in_New_Zealand_football', '2024_in_San_Marino', '2024_in_athletics', '2024_in_Denmark', '2024_in_Luxembourg', '2024_in_Philippine_music', '2024_in_Montenegro', '2024_in_Ukraine', '2024_in_Philippine_sports', '2024_in_chess', '2024_in_Hungary', '2024_in_Tuvalu', '2024_in_Kenya', '2024_in_East_Timor', '2024_in_Glory', '2024_in_Romania', '2024_in_the_British_Virgin_Islands', '2024_in_Northern_Ireland', '2024_in_Mongolia', '2024_in_Lebanon', '2024_in_Ivory_Coast', '2024_in_paleomalacology', '2024_in_basketball', '2024_in_Algeria', '2024_in_Kerala', '2024_in_sports', '2024_in_Chile', '2024_in_ONE_Championship', '2024_in_Indonesia', '2024_in_sport_climbing', '2024_in_African_music', '2024_in_Scandinavian_music', '2024_in_Seychelles', '2024_in_Croatia', '2024_in_Nepal', '2024_in_Sri_Lanka', '2024_in_British_television', '2024_in_American_public_domain', '2024_in_Venezuela', '2024_in_Hawaii', '2024_in_United_Kingdom_politics_and_government', '2024_in_Bermuda', '2024_in_Somaliland', '2024_in_Estonian_football', '2024_in_California', '2024_in_the_BVI', '2024_in_professional_wrestling', '2024_in_archosaur_paleontology', '2024_in_literature', '2024_in_France', '2024_in_Liberia', '2024_in_Estonia', '2024_in_Japanese_football', '2024_in_India', '2024_in_Madagascar', '2024_in_Qatar', '2024_in_Burkina_Faso', '2024_in_Andorra', '2024_in_stand-up_comedy', '2024_in_Syria', '2024_in_Morocco', '2024_in_El_Salvador', '2024_in_Tonga', '2024_in_American_football', '2024_in_RISE', '2024_in_Nicaragua', '2024_in_Armenia', '2024_in_heavy_metal_music', '2024_in_Macau', '2024_in_rock_music', '2024_in_television', '2024_in_Malaysia', '2024_in_Italy', '2024_in_NASCAR', '2024_in_Sierra_Leone', '2024_in_games', '2024_in_Togo', '2024_in_Japanese_music', '2024_in_Paraguay', '2024_in_Germany', '2024_in_Myanmar', '2024_in_comics', '2024_in_sumo', '2024_in_Latin_music', '2024_in_Palestine', '2024_in_Nauru', '2024_in_Southern_Africa', '2024_in_spaceflight_(July-December)', '2024_in_association_football', '2024_in_Ghana', '2024_in_Bolivia', '2024_in_Guinea', '2024_in_Panama', '2024_in_Taiwan', '2024_in_film', '2024_in_BVI', '2024_in_Turkmenistan', '2024_in_hip_hop_music', '2024_in_Lithuania', '2024_in_Slovakia', '2024_in_Tanzania', '2024_in_public_domain', '2024_in_Cyprus', '2024_in_philosophy', '2024_in_Rizin_Fighting_Federation', '2024_in_Guatemala', '2024_in_rock', '2024_in_American_television', '2024_in_Guam', '2024_in_Dutch_television', '2024_in_Suriname', '2024_in_American_Samoa', '2024_in_Burundi', '2024_in_Benin', '2024_in_the_Caribbean', '2024_in_New_Zealand', '2024_in_Chad', '2024_in_Portugal', '2024_in_Europe', '2024_in_Belarus', '2024_in_Dominica', '2024_in_Solomon_Islands', '2024_in_Nigeria', '2024_in_country_music']\n"
     ]
    }
   ],
   "source": [
    "titles = []\n",
    "\n",
    "for year in config['years']:\n",
    "    time.sleep(random.randint(0, 7))\n",
    "    temp = requests.get(f\"https://en.wikipedia.org/wiki/Special:AllPages?from={year}_in_&to=&namespace=0\")\n",
    "    # Parse the HTML content\n",
    "    soup = BeautifulSoup(temp.content, 'html.parser')\n",
    "\n",
    "    # Find all the <a> tags\n",
    "    links = soup.find_all('a')\n",
    "\n",
    "    # Extract the href attribute from each <a> tag\n",
    "    link_urls = [link.get('href') for link in links]\n",
    "\n",
    "    # Filter out None values and remove duplicates\n",
    "    link_urls = list(filter(lambda x: x is not None, link_urls))\n",
    "    link_urls = [link for link in link_urls if f'wiki/{year}' in link]\n",
    "    link_urls = list(set(link_urls))\n",
    "\n",
    "    # Filter out the links that contain %!\n",
    "    link_urls = [link for link in link_urls if '%' not in link]\n",
    "\n",
    "    # Add to the list of all links\n",
    "    titles.extend([link.replace(f'/wiki/', '') for link in link_urls])\n",
    "\n",
    "# Print the extracted links\n",
    "print(titles)\n",
    "\n",
    "titles.extend(config['years'])"
   ]
  },
  {
   "cell_type": "code",
   "execution_count": 8,
   "metadata": {},
   "outputs": [
    {
     "name": "stdout",
     "output_type": "stream",
     "text": [
      "Number of titles:  1026\n"
     ]
    }
   ],
   "source": [
    "print(\"Number of titles: \", len(titles))"
   ]
  },
  {
   "cell_type": "markdown",
   "metadata": {},
   "source": [
    "I will use the wikipedia-api to pull data from Wikipedia. Given a list of topics, I will only look at a few of the topics and pull the data from Wikipedia. I will then store the data in LanceDB for retrieval and augmentation."
   ]
  },
  {
   "cell_type": "code",
   "execution_count": 9,
   "metadata": {},
   "outputs": [],
   "source": [
    "events = []\n",
    "fails = []\n",
    "for title in [\"2022\", '2023', '2024', '2022_in_music', '2023_in_music',\n",
    "     '2024_in_music', '2022_in_science', '2023_in_science', '2024_in_science',\n",
    "      \"2022_in_sports\", \"2023_in_sports\", \"2024_in_sports\"]:\n",
    "\n",
    "\n",
    "    time.sleep(random.randint(0, 15))\n",
    "    # pull the page\n",
    "    params[\"titles\"] = title\n",
    "    response = requests.get(base_endpoint, params=params)\n",
    "    response_dict =  response.json()\n",
    "\n",
    "    # extract the text\n",
    "    try:\n",
    "        page = response_dict['query']['pages'][0]['extract'].split('\\n')\n",
    "    except:\n",
    "        fails.append(title)\n",
    "        continue\n",
    "\n",
    "    \n",
    "    # remove intro\n",
    "    page = page[2:]\n",
    "\n",
    "    # remove unicode\n",
    "    page = list(map(lambda x : unidecode(x), page))\n",
    "    # remove empty strings\n",
    "    page = list(filter(lambda x : len(x) > 0, page))\n",
    "    # add to the list\n",
    "    events.extend(list(map(lambda x : x + f\" {title.replace('_', ' ')}\", page)))\n",
    "        \n",
    "# convert to a dataframe\n",
    "df = pd.DataFrame(events)\n",
    "df.columns = ['text']"
   ]
  },
  {
   "cell_type": "code",
   "execution_count": 10,
   "metadata": {},
   "outputs": [
    {
     "name": "stdout",
     "output_type": "stream",
     "text": [
      "<class 'pandas.core.frame.DataFrame'>\n",
      "RangeIndex: 13975 entries, 0 to 13974\n",
      "Data columns (total 1 columns):\n",
      " #   Column  Non-Null Count  Dtype \n",
      "---  ------  --------------  ----- \n",
      " 0   text    13975 non-null  object\n",
      "dtypes: object(1)\n",
      "memory usage: 109.3+ KB\n"
     ]
    }
   ],
   "source": [
    "df.info()"
   ]
  },
  {
   "cell_type": "code",
   "execution_count": 11,
   "metadata": {},
   "outputs": [
    {
     "data": {
      "text/html": [
       "<div>\n",
       "<style scoped>\n",
       "    .dataframe tbody tr th:only-of-type {\n",
       "        vertical-align: middle;\n",
       "    }\n",
       "\n",
       "    .dataframe tbody tr th {\n",
       "        vertical-align: top;\n",
       "    }\n",
       "\n",
       "    .dataframe thead th {\n",
       "        text-align: right;\n",
       "    }\n",
       "</style>\n",
       "<table border=\"1\" class=\"dataframe\">\n",
       "  <thead>\n",
       "    <tr style=\"text-align: right;\">\n",
       "      <th></th>\n",
       "      <th>text</th>\n",
       "    </tr>\n",
       "  </thead>\n",
       "  <tbody>\n",
       "    <tr>\n",
       "      <th>0</th>\n",
       "      <td>2022 was also dominated by wars and armed conf...</td>\n",
       "    </tr>\n",
       "    <tr>\n",
       "      <th>1</th>\n",
       "      <td>== Events == 2022</td>\n",
       "    </tr>\n",
       "    <tr>\n",
       "      <th>2</th>\n",
       "      <td>=== January === 2022</td>\n",
       "    </tr>\n",
       "    <tr>\n",
       "      <th>3</th>\n",
       "      <td>January 1 - The Regional Comprehensive Econom...</td>\n",
       "    </tr>\n",
       "    <tr>\n",
       "      <th>4</th>\n",
       "      <td>January 2 - Abdalla Hamdok resigns as Prime Mi...</td>\n",
       "    </tr>\n",
       "  </tbody>\n",
       "</table>\n",
       "</div>"
      ],
      "text/plain": [
       "                                                text\n",
       "0  2022 was also dominated by wars and armed conf...\n",
       "1                                  == Events == 2022\n",
       "2                               === January === 2022\n",
       "3   January 1 - The Regional Comprehensive Econom...\n",
       "4  January 2 - Abdalla Hamdok resigns as Prime Mi..."
      ]
     },
     "execution_count": 11,
     "metadata": {},
     "output_type": "execute_result"
    }
   ],
   "source": [
    "df.head()"
   ]
  },
  {
   "cell_type": "markdown",
   "metadata": {},
   "source": [
    "## Cleaning and Preprocessing Data"
   ]
  },
  {
   "cell_type": "code",
   "execution_count": 12,
   "metadata": {},
   "outputs": [],
   "source": [
    "# reomove extra spaces\n",
    "df.loc['text'] = df['text'].str.strip()\n",
    "\n",
    "# remove missing values\n",
    "df = df.dropna()\n",
    "\n",
    "# drop duplicates\n",
    "df = df.drop_duplicates()\n",
    "\n",
    "# remove headings and empty strings\n",
    "df = df[(df['text'] != '') & (~df[\"text\"].str.startswith(\"==\")) ]\n",
    "\n",
    "\n",
    "prefix = \"\"\n",
    "\n",
    "for (i, row) in df.iterrows():\n",
    "    if \" - \" not in row[\"text\"]:\n",
    "            try:\n",
    "                # If the row's text is a date, set it as the new prefix\n",
    "                parse(row[\"text\"])\n",
    "                prefix = row[\"text\"]\n",
    "            except:\n",
    "                pass\n",
    "\n",
    "    if \":\" in row[\"text\"]:\n",
    "            \n",
    "            temp = row[\"text\"].split(\":\")[0]\n",
    "\n",
    "            if \" - \" in temp:\n",
    "                try:\n",
    "                    parse(temp.split(\"-\")[0])\n",
    "                    prefix = temp\n",
    "                except:\n",
    "                    pass\n",
    "\n",
    "            else:\n",
    "                try:\n",
    "                    # If the row's text is a date, set it as the new prefix\n",
    "                    parse(temp)\n",
    "                    prefix = temp\n",
    "                except:\n",
    "                    pass\n",
    "\n",
    "    try:\n",
    "        # if the row's text starts with a date\n",
    "        parse(row[\"text\"].split(\" \")[0])\n",
    "    except:         \n",
    "        if prefix != \"\" :\n",
    "            row[\"text\"] = prefix + \" - \" + row[\"text\"]\n",
    "    else:\n",
    "        pass"
   ]
  },
  {
   "cell_type": "code",
   "execution_count": 13,
   "metadata": {},
   "outputs": [
    {
     "data": {
      "text/html": [
       "<div>\n",
       "<style scoped>\n",
       "    .dataframe tbody tr th:only-of-type {\n",
       "        vertical-align: middle;\n",
       "    }\n",
       "\n",
       "    .dataframe tbody tr th {\n",
       "        vertical-align: top;\n",
       "    }\n",
       "\n",
       "    .dataframe thead th {\n",
       "        text-align: right;\n",
       "    }\n",
       "</style>\n",
       "<table border=\"1\" class=\"dataframe\">\n",
       "  <thead>\n",
       "    <tr style=\"text-align: right;\">\n",
       "      <th></th>\n",
       "      <th>text</th>\n",
       "    </tr>\n",
       "  </thead>\n",
       "  <tbody>\n",
       "    <tr>\n",
       "      <th>0</th>\n",
       "      <td>2022 was also dominated by wars and armed conf...</td>\n",
       "    </tr>\n",
       "    <tr>\n",
       "      <th>3</th>\n",
       "      <td>January 1 - The Regional Comprehensive Econom...</td>\n",
       "    </tr>\n",
       "    <tr>\n",
       "      <th>4</th>\n",
       "      <td>January 2 - Abdalla Hamdok resigns as Prime Mi...</td>\n",
       "    </tr>\n",
       "    <tr>\n",
       "      <th>5</th>\n",
       "      <td>January 4 - The five permanent members of the ...</td>\n",
       "    </tr>\n",
       "    <tr>\n",
       "      <th>6</th>\n",
       "      <td>January 5 - A nationwide state of emergency is...</td>\n",
       "    </tr>\n",
       "  </tbody>\n",
       "</table>\n",
       "</div>"
      ],
      "text/plain": [
       "                                                text\n",
       "0  2022 was also dominated by wars and armed conf...\n",
       "3   January 1 - The Regional Comprehensive Econom...\n",
       "4  January 2 - Abdalla Hamdok resigns as Prime Mi...\n",
       "5  January 4 - The five permanent members of the ...\n",
       "6  January 5 - A nationwide state of emergency is..."
      ]
     },
     "execution_count": 13,
     "metadata": {},
     "output_type": "execute_result"
    }
   ],
   "source": [
    "# save the data\n",
    "df.to_csv('data/events.csv', index=False)\n",
    "\n",
    "# look at the data\n",
    "df.head()"
   ]
  },
  {
   "cell_type": "code",
   "execution_count": null,
   "metadata": {},
   "outputs": [],
   "source": []
  },
  {
   "cell_type": "markdown",
   "metadata": {},
   "source": [
    "## Get Embeddings for Data"
   ]
  },
  {
   "cell_type": "code",
   "execution_count": 14,
   "metadata": {},
   "outputs": [],
   "source": [
    "from typing import Union, List, Dict"
   ]
  },
  {
   "cell_type": "code",
   "execution_count": 15,
   "metadata": {},
   "outputs": [],
   "source": [
    "def get_embedding(text: Union[str,List[str]], model:str = \"text-embedding-3-small\")->List[float]:\n",
    "    \"\"\" Get the embedding for a given text using the OpenAI API\n",
    "    \n",
    "    Args:\n",
    "        text (Union[str,List[str]]): The input text or list of texts to get the embedding for.\n",
    "        model (str, optional): The name of the model to use for embedding. Defaults to \"text-embedding-3-small\".\n",
    "    \n",
    "    Returns:\n",
    "        List[float]: The embedding vector for the input text.\n",
    "    \"\"\"\n",
    "    text = text.replace(\"\\n\", \" \")\n",
    "\n",
    "    embedding = openai.embeddings.create(\n",
    "        input = text,\n",
    "        model = model\n",
    "    )\n",
    "\n",
    "    return embedding.data[0].embedding"
   ]
  },
  {
   "cell_type": "code",
   "execution_count": 16,
   "metadata": {},
   "outputs": [],
   "source": [
    "# This may take a few minutes\n",
    "df[\"embeddings\"] = df['text'].apply( lambda x: get_embedding(x, model=config['embedding_model']))\n",
    "df.to_csv(\"data/events_with_embeddings.csv\", index=False)"
   ]
  },
  {
   "cell_type": "code",
   "execution_count": 17,
   "metadata": {},
   "outputs": [
    {
     "data": {
      "text/html": [
       "<div>\n",
       "<style scoped>\n",
       "    .dataframe tbody tr th:only-of-type {\n",
       "        vertical-align: middle;\n",
       "    }\n",
       "\n",
       "    .dataframe tbody tr th {\n",
       "        vertical-align: top;\n",
       "    }\n",
       "\n",
       "    .dataframe thead th {\n",
       "        text-align: right;\n",
       "    }\n",
       "</style>\n",
       "<table border=\"1\" class=\"dataframe\">\n",
       "  <thead>\n",
       "    <tr style=\"text-align: right;\">\n",
       "      <th></th>\n",
       "      <th>text</th>\n",
       "      <th>embeddings</th>\n",
       "    </tr>\n",
       "  </thead>\n",
       "  <tbody>\n",
       "    <tr>\n",
       "      <th>0</th>\n",
       "      <td>2022 was also dominated by wars and armed conf...</td>\n",
       "      <td>[-0.05098605528473854, 0.01658623293042183, 0....</td>\n",
       "    </tr>\n",
       "    <tr>\n",
       "      <th>3</th>\n",
       "      <td>January 1 - The Regional Comprehensive Econom...</td>\n",
       "      <td>[-0.0530412532389164, 0.024792009964585304, 0....</td>\n",
       "    </tr>\n",
       "    <tr>\n",
       "      <th>4</th>\n",
       "      <td>January 2 - Abdalla Hamdok resigns as Prime Mi...</td>\n",
       "      <td>[0.02006388083100319, -0.025998268276453018, 0...</td>\n",
       "    </tr>\n",
       "    <tr>\n",
       "      <th>5</th>\n",
       "      <td>January 4 - The five permanent members of the ...</td>\n",
       "      <td>[-0.0011166088515892625, 0.004961762577295303,...</td>\n",
       "    </tr>\n",
       "    <tr>\n",
       "      <th>6</th>\n",
       "      <td>January 5 - A nationwide state of emergency is...</td>\n",
       "      <td>[-0.0538049079477787, -0.0076721422374248505, ...</td>\n",
       "    </tr>\n",
       "  </tbody>\n",
       "</table>\n",
       "</div>"
      ],
      "text/plain": [
       "                                                text  \\\n",
       "0  2022 was also dominated by wars and armed conf...   \n",
       "3   January 1 - The Regional Comprehensive Econom...   \n",
       "4  January 2 - Abdalla Hamdok resigns as Prime Mi...   \n",
       "5  January 4 - The five permanent members of the ...   \n",
       "6  January 5 - A nationwide state of emergency is...   \n",
       "\n",
       "                                          embeddings  \n",
       "0  [-0.05098605528473854, 0.01658623293042183, 0....  \n",
       "3  [-0.0530412532389164, 0.024792009964585304, 0....  \n",
       "4  [0.02006388083100319, -0.025998268276453018, 0...  \n",
       "5  [-0.0011166088515892625, 0.004961762577295303,...  \n",
       "6  [-0.0538049079477787, -0.0076721422374248505, ...  "
      ]
     },
     "execution_count": 17,
     "metadata": {},
     "output_type": "execute_result"
    }
   ],
   "source": [
    "df.head()"
   ]
  },
  {
   "cell_type": "markdown",
   "metadata": {},
   "source": [
    "## Store Data in LanceDB"
   ]
  },
  {
   "cell_type": "code",
   "execution_count": 18,
   "metadata": {},
   "outputs": [],
   "source": [
    "# Defing schema for the database\n",
    "class Events(LanceModel):\n",
    "    text : str\n",
    "    embeddings : vector(len(df.embeddings[0]))\n",
    "\n",
    "# Connect to the database\n",
    "db = lancedb.connect(config['databaseName'])\n",
    "\n",
    "table_name = \"events\"\n",
    "\n",
    "# Create or load the table\n",
    "try:\n",
    "    table = db.create_table(table_name, schema = Events)\n",
    "except:\n",
    "    table = db.open_table(table_name)\n",
    "\n",
    "# Add the data to the database\n",
    "table.add(df[['text','embeddings']])\n",
    "\n"
   ]
  },
  {
   "cell_type": "markdown",
   "metadata": {},
   "source": [
    "## Creating Prompt for OpenAI API"
   ]
  },
  {
   "cell_type": "code",
   "execution_count": 20,
   "metadata": {},
   "outputs": [],
   "source": [
    "# Get encoder\n",
    "encoding = tiktoken.encoding_for_model(config['llm_model'])\n",
    "\n",
    "# Get tokenizer\n",
    "tokenizer = tiktoken.get_encoding(encoding.name)"
   ]
  },
  {
   "cell_type": "code",
   "execution_count": 21,
   "metadata": {},
   "outputs": [],
   "source": [
    "def get_rows_sorted_by_relevance(question, df, limit=None) :\n",
    "    \"\"\"\n",
    "    Function that takes in a question string and a dataframe containing\n",
    "    rows of text and associated embeddings, and returns that dataframe\n",
    "    sorted from least to most relevant for that question\n",
    "    \"\"\"\n",
    "    \n",
    "    # Get embeddings for the question text\n",
    "    question_embeddings = get_embedding(question, model=config['embedding_model'])\n",
    "    \n",
    "    # Make a copy of the dataframe and add a \"distances\" column containing\n",
    "    # the cosine distances between each row's embeddings and the\n",
    "    # embeddings of the question\n",
    "    if limit:\n",
    "        result =  table.search(np.array(question_embeddings),vector_column_name=\"embeddings\").limit(limit).to_pandas()\n",
    "    else:\n",
    "        # returns 10 by default\n",
    "        result =  table.search(np.array(question_embeddings),vector_column_name=\"embeddings\").to_pandas()\n",
    "    \n",
    "\n",
    "    return result"
   ]
  },
  {
   "cell_type": "code",
   "execution_count": 22,
   "metadata": {},
   "outputs": [],
   "source": [
    "def create_prompt(question: str, df: pd.DataFrame , max_token_count: int  ,limit: int =None) -> Dict[str, str] :\n",
    "    \"\"\"\n",
    "    Given a question and a dataframe containing rows of text and their\n",
    "    embeddings, return a text prompt to send to a Completion model\n",
    "    \"\"\"\n",
    "    # Create a tokenizer that is designed to align with our embeddings\n",
    "    tokenizer = tiktoken.get_encoding(\"cl100k_base\")\n",
    "    \n",
    "    # Count the number of tokens in the prompt template and question\n",
    "    context = \"\"\n",
    "\n",
    "    prompt = {\n",
    "        \"system\": (f\"You are a helpful assistant.\"\n",
    "                \" If you don't know the answer, you can say 'I don't know' or 'I'm not sure'.\"),\n",
    "             \n",
    "\n",
    "    }\n",
    "\n",
    "    prompt_template = (\"Context:\\n {} \\n\\n###\\n\\n\"\n",
    "                        \"Answer the question based on the context provided. \\n\" \n",
    "                        \"Question: {}\")\n",
    "\n",
    "\n",
    "    current_token_count = len(tokenizer.encode(prompt_template)) + len(tokenizer.encode(prompt[\"system\"])) + len(tokenizer.encode(question))\n",
    "    \n",
    "    context = []\n",
    "    for text in get_rows_sorted_by_relevance(question, df, limit = limit)[\"text\"].values:\n",
    "        \n",
    "        # Increase the counter based on the number of tokens in this row\n",
    "        text_token_count = len(tokenizer.encode(text))\n",
    "        current_token_count += text_token_count\n",
    "        \n",
    "        # Add the row of text to the list if we haven't exceeded the max\n",
    "        if current_token_count <= max_token_count:\n",
    "            context.append(text)\n",
    "        else:\n",
    "            break\n",
    "\n",
    "    prompt[\"user\"] = prompt_template.format(\"\\n\".join(context), question)\n",
    "    return prompt\n",
    "    "
   ]
  },
  {
   "cell_type": "code",
   "execution_count": 23,
   "metadata": {},
   "outputs": [],
   "source": [
    "def format_prompt(prompt: dict) -> List[Dict]:\n",
    "    \"\"\"\n",
    "    Given a prompt dictionary, return a string that can be sent to a\n",
    "    Completion model\n",
    "    \n",
    "    Args:\n",
    "        prompt (Dict): A dictionary containing the system and user prompts\n",
    "    \n",
    "    Returns:\n",
    "        List[Dict]: A list of dictionaries containing the role and content of each prompt\n",
    "    \"\"\"\n",
    "\n",
    "    return [{\"role\": \"system\", \"content\": prompt[\"system\"]},{\"role\": \"user\", \"content\": prompt[\"user\"]}]"
   ]
  },
  {
   "cell_type": "code",
   "execution_count": null,
   "metadata": {},
   "outputs": [],
   "source": []
  },
  {
   "cell_type": "markdown",
   "metadata": {},
   "source": [
    "## Questions"
   ]
  },
  {
   "cell_type": "markdown",
   "metadata": {},
   "source": [
    "### Question 1 "
   ]
  },
  {
   "cell_type": "code",
   "execution_count": 24,
   "metadata": {},
   "outputs": [
    {
     "name": "stdout",
     "output_type": "stream",
     "text": [
      "Context:\n",
      " July 31 - August 3: 2024 World Yo-Yo Contest in  Cleveland 2024 in sports\n",
      "October 13 - 17: 2022 IFBB World Fitness Championships in  Yeongju 2022 in sports\n",
      "June 18 - 22: 2022 World Foil Championships 2022 in sports\n",
      "January 15-20: 2023 Contender World Championship in  Perth 2023 in sports\n",
      "April 29 - May 6: 2022 Optimist Asian & Oceanian American Championship in  Yeosu 2022 in sports\n",
      "2023 World University Combat World Cup (2nd) 2023 in sports\n",
      "TBD: 2022 World Dodgeball Championships 2022 in sports\n",
      "May 21 - 26: World Cup #2 in  Yecheon 2024 in sports\n",
      "August 6-10: Amateur Disc Golf World Championships in  Grand Rapids 2024 in sports\n",
      "July 22-30: 2023 Mirror Class World Championship in  Rosses Point 2023 in sports\n",
      "January 7 - 23: 2022 World Indoor Bowls Championship in  Great Yarmouth 2022 in sports\n",
      "November 5 & 6: 2022 Trout Area Fishing World Championship 2022 in sports\n",
      "World & Continental ChampionshipsSeptember 21-24: 2024 WWA Wakeboard & Wake Park World Championships in  Gold Coast  2024 in sports\n",
      "November: World Team Chess Championship 2022 2022 in sports\n",
      "February 6-7: 2024 Oceania Wrestling Championships in  Yona 2024 in sports\n",
      "October 3 - 9: 2022 World Archery Field Championships in  Yankton 2022 in sports\n",
      "December 8-10, 2023: World Series #3 in  Taoyuan CityRecurve winners:  Tai Yu-Hsuan (m) /  Lei Chien-Ying (f) 2024 in sports\n",
      "April 17-20: AG World Cup #4 (final) in  Doha 2024 in sports\n",
      "August 1 - 6: 2022 World Overall Flying Disc Championships in  San Diego 2022 in sports\n",
      "July 27 - August 3: 2024 IWWF World Under 17 Waterski Championships at the  Predator Bay 2024 in sports \n",
      "\n",
      "###\n",
      "\n",
      "Answer the question based on the context provided. \n",
      "Question: When is World Yo-Yo Contest?\n"
     ]
    }
   ],
   "source": [
    "question = \"When is World Yo-Yo Contest?\"\n",
    "prompt = create_prompt(question, df, config['max_token_count'], limit=20)\n",
    "print(prompt[\"user\"])"
   ]
  },
  {
   "cell_type": "code",
   "execution_count": 25,
   "metadata": {},
   "outputs": [
    {
     "data": {
      "text/plain": [
       "'The World Yo-Yo Contest is scheduled from July 31 to August 3 in 2024 and will be held in Cleveland.'"
      ]
     },
     "execution_count": 25,
     "metadata": {},
     "output_type": "execute_result"
    }
   ],
   "source": [
    "response = openai.chat.completions.create(\n",
    "  model = config['llm_model'],\n",
    "  messages=format_prompt(prompt),\n",
    ")\n",
    "response.choices[0].message.content"
   ]
  },
  {
   "cell_type": "markdown",
   "metadata": {},
   "source": [
    "### Question 2"
   ]
  },
  {
   "cell_type": "code",
   "execution_count": 28,
   "metadata": {},
   "outputs": [
    {
     "data": {
      "text/plain": [
       "'Yes, the context states that there were alleged Chinese spy balloons being tracked by the US over the Americas.'"
      ]
     },
     "execution_count": 28,
     "metadata": {},
     "output_type": "execute_result"
    }
   ],
   "source": [
    "question = \"Was there a Chinese spy balloon?\"\n",
    "prompt = create_prompt(question, df, config['max_token_count'],limit=20)\n",
    "\n",
    "response = openai.chat.completions.create(\n",
    "  model = config['llm_model'],\n",
    "  messages=[\n",
    "    {\"role\": \"system\", \"content\": prompt[\"system\"]},\n",
    "    {\"role\": \"user\", \"content\": prompt[\"user\"]},\n",
    "  ]\n",
    ")\n",
    "response.choices[0].message.content"
   ]
  }
 ],
 "metadata": {
  "kernelspec": {
   "display_name": ".venv",
   "language": "python",
   "name": "python3"
  },
  "language_info": {
   "codemirror_mode": {
    "name": "ipython",
    "version": 3
   },
   "file_extension": ".py",
   "mimetype": "text/x-python",
   "name": "python",
   "nbconvert_exporter": "python",
   "pygments_lexer": "ipython3",
   "version": "3.10.5"
  }
 },
 "nbformat": 4,
 "nbformat_minor": 2
}
